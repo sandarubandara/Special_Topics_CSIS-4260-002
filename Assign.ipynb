{
 "cells": [
  {
   "cell_type": "markdown",
   "metadata": {},
   "source": [
    "# Importing libraries"
   ]
  },
  {
   "cell_type": "code",
   "execution_count": 4,
   "metadata": {},
   "outputs": [],
   "source": [
    "import numpy as np\n",
    "import pandas as pd\n",
    "import matplotlib.pyplot as plt\n",
    "import seaborn as sb\n",
    "import pyarrow.parquet as pq\n",
    "import pyarrow as pa\n",
    "import time\n",
    "import os\n",
    "\n",
    "from sklearn.model_selection import train_test_split\n",
    "import polars as pl\n",
    "import datetime as dt\n",
    "import gc\n",
    "\n",
    "from sklearn.ensemble import RandomForestRegressor\n",
    "from sklearn.metrics import mean_absolute_error, mean_squared_error,r2_score\n",
    "\n",
    "# import dash\n",
    "# from dash import dcc, html\n",
    "import streamlit as st\n",
    "import plotly.express as px\n"
   ]
  },
  {
   "cell_type": "markdown",
   "metadata": {},
   "source": [
    "# Import original dataset"
   ]
  },
  {
   "cell_type": "code",
   "execution_count": 4,
   "metadata": {},
   "outputs": [],
   "source": [
    "original_data_1x = pd.read_csv('./all_stocks_5yr.csv')"
   ]
  },
  {
   "cell_type": "code",
   "execution_count": 5,
   "metadata": {},
   "outputs": [
    {
     "data": {
      "application/vnd.microsoft.datawrangler.viewer.v0+json": {
       "columns": [
        {
         "name": "index",
         "rawType": "int64",
         "type": "integer"
        },
        {
         "name": "date",
         "rawType": "object",
         "type": "string"
        },
        {
         "name": "open",
         "rawType": "float64",
         "type": "float"
        },
        {
         "name": "high",
         "rawType": "float64",
         "type": "float"
        },
        {
         "name": "low",
         "rawType": "float64",
         "type": "float"
        },
        {
         "name": "close",
         "rawType": "float64",
         "type": "float"
        },
        {
         "name": "volume",
         "rawType": "int64",
         "type": "integer"
        },
        {
         "name": "name",
         "rawType": "object",
         "type": "string"
        }
       ],
       "conversionMethod": "pd.DataFrame",
       "ref": "23381765-a601-43a0-a88b-49be139967bd",
       "rows": [
        [
         "0",
         "2013-02-08",
         "15.07",
         "15.12",
         "14.63",
         "14.75",
         "8407500",
         "AAL"
        ],
        [
         "1",
         "2013-02-11",
         "14.89",
         "15.01",
         "14.26",
         "14.46",
         "8882000",
         "AAL"
        ],
        [
         "2",
         "2013-02-12",
         "14.45",
         "14.51",
         "14.1",
         "14.27",
         "8126000",
         "AAL"
        ],
        [
         "3",
         "2013-02-13",
         "14.3",
         "14.94",
         "14.25",
         "14.66",
         "10259500",
         "AAL"
        ],
        [
         "4",
         "2013-02-14",
         "14.94",
         "14.96",
         "13.16",
         "13.99",
         "31879900",
         "AAL"
        ]
       ],
       "shape": {
        "columns": 7,
        "rows": 5
       }
      },
      "text/html": [
       "<div>\n",
       "<style scoped>\n",
       "    .dataframe tbody tr th:only-of-type {\n",
       "        vertical-align: middle;\n",
       "    }\n",
       "\n",
       "    .dataframe tbody tr th {\n",
       "        vertical-align: top;\n",
       "    }\n",
       "\n",
       "    .dataframe thead th {\n",
       "        text-align: right;\n",
       "    }\n",
       "</style>\n",
       "<table border=\"1\" class=\"dataframe\">\n",
       "  <thead>\n",
       "    <tr style=\"text-align: right;\">\n",
       "      <th></th>\n",
       "      <th>date</th>\n",
       "      <th>open</th>\n",
       "      <th>high</th>\n",
       "      <th>low</th>\n",
       "      <th>close</th>\n",
       "      <th>volume</th>\n",
       "      <th>name</th>\n",
       "    </tr>\n",
       "  </thead>\n",
       "  <tbody>\n",
       "    <tr>\n",
       "      <th>0</th>\n",
       "      <td>2013-02-08</td>\n",
       "      <td>15.07</td>\n",
       "      <td>15.12</td>\n",
       "      <td>14.63</td>\n",
       "      <td>14.75</td>\n",
       "      <td>8407500</td>\n",
       "      <td>AAL</td>\n",
       "    </tr>\n",
       "    <tr>\n",
       "      <th>1</th>\n",
       "      <td>2013-02-11</td>\n",
       "      <td>14.89</td>\n",
       "      <td>15.01</td>\n",
       "      <td>14.26</td>\n",
       "      <td>14.46</td>\n",
       "      <td>8882000</td>\n",
       "      <td>AAL</td>\n",
       "    </tr>\n",
       "    <tr>\n",
       "      <th>2</th>\n",
       "      <td>2013-02-12</td>\n",
       "      <td>14.45</td>\n",
       "      <td>14.51</td>\n",
       "      <td>14.10</td>\n",
       "      <td>14.27</td>\n",
       "      <td>8126000</td>\n",
       "      <td>AAL</td>\n",
       "    </tr>\n",
       "    <tr>\n",
       "      <th>3</th>\n",
       "      <td>2013-02-13</td>\n",
       "      <td>14.30</td>\n",
       "      <td>14.94</td>\n",
       "      <td>14.25</td>\n",
       "      <td>14.66</td>\n",
       "      <td>10259500</td>\n",
       "      <td>AAL</td>\n",
       "    </tr>\n",
       "    <tr>\n",
       "      <th>4</th>\n",
       "      <td>2013-02-14</td>\n",
       "      <td>14.94</td>\n",
       "      <td>14.96</td>\n",
       "      <td>13.16</td>\n",
       "      <td>13.99</td>\n",
       "      <td>31879900</td>\n",
       "      <td>AAL</td>\n",
       "    </tr>\n",
       "  </tbody>\n",
       "</table>\n",
       "</div>"
      ],
      "text/plain": [
       "         date   open   high    low  close    volume name\n",
       "0  2013-02-08  15.07  15.12  14.63  14.75   8407500  AAL\n",
       "1  2013-02-11  14.89  15.01  14.26  14.46   8882000  AAL\n",
       "2  2013-02-12  14.45  14.51  14.10  14.27   8126000  AAL\n",
       "3  2013-02-13  14.30  14.94  14.25  14.66  10259500  AAL\n",
       "4  2013-02-14  14.94  14.96  13.16  13.99  31879900  AAL"
      ]
     },
     "execution_count": 5,
     "metadata": {},
     "output_type": "execute_result"
    }
   ],
   "source": [
    "original_data_1x.head()"
   ]
  },
  {
   "cell_type": "markdown",
   "metadata": {},
   "source": [
    "# Expand data into 10X"
   ]
  },
  {
   "cell_type": "code",
   "execution_count": 6,
   "metadata": {},
   "outputs": [],
   "source": [
    "# Duplicate the dataset 10 times\n",
    "data_expanded_10x = pd.concat([original_data_1x] * 10, ignore_index=True)"
   ]
  },
  {
   "cell_type": "code",
   "execution_count": 7,
   "metadata": {},
   "outputs": [],
   "source": [
    "# Save to a new CSV file\n",
    "data_expanded_10x.to_csv(\"all_stocks_5yr_10x.csv\", index=False)"
   ]
  },
  {
   "cell_type": "markdown",
   "metadata": {},
   "source": [
    "# Expand data into 100X"
   ]
  },
  {
   "cell_type": "code",
   "execution_count": 8,
   "metadata": {},
   "outputs": [],
   "source": [
    "data_expanded_100x = pd.concat([original_data_1x] * 100, ignore_index=True)\n",
    "data_expanded_100x.to_csv(\"all_stocks_5yr_100x.csv\", index=False)"
   ]
  },
  {
   "cell_type": "markdown",
   "metadata": {},
   "source": [
    "# Benchmarking for 1x"
   ]
  },
  {
   "cell_type": "code",
   "execution_count": 5,
   "metadata": {},
   "outputs": [
    {
     "name": "stdout",
     "output_type": "stream",
     "text": [
      "CSV Read Time: 0.3362s\n",
      "CSV Write Time: - 1.5488s\n",
      "Parquet Read Time: 0.2060s\n",
      "Parquet Write Time: 0.3799s\n",
      "CSV Size: 28.80 MB\n",
      "Parquet Size (zstd): 8.09 MB\n"
     ]
    }
   ],
   "source": [
    "# Load CSV\n",
    "csv_file_1x = './all_stocks_5yr.csv'\n",
    "df_1x = pd.read_csv(csv_file_1x)\n",
    "\n",
    "# Benchmark CSV write time\n",
    "start = time.time()\n",
    "df_1x.to_csv(csv_file_1x, index=False)  # Writing CSV\n",
    "csv_write_time_1x = time.time() - start\n",
    "\n",
    "\n",
    "# Benchmark CSV Read Time\n",
    "start = time.time()\n",
    "df_benchmark_1x = pd.read_csv(csv_file_1x)\n",
    "csv_read_time_1x = time.time() - start\n",
    "\n",
    "# Convert to Parquet with different compression options\n",
    "parquet_file_1x = './all_stocks_5yr.parquet'\n",
    "start = time.time()\n",
    "df_1x.to_parquet(parquet_file_1x, engine=\"pyarrow\", compression=\"zstd\") # Convert to Parquet with different compression options\n",
    "parquet_write_time_1x = time.time() - start\n",
    "\n",
    "# Benchmark Parquet Read Time\n",
    "start = time.time()\n",
    "df_parquet_1x = pd.read_parquet(parquet_file_1x, engine=\"pyarrow\")\n",
    "parquet_read_time_1x = time.time() - start\n",
    "\n",
    "\n",
    "# Storage sizes\n",
    "csv_size_1x = os.path.getsize(csv_file_1x) / (1024 * 1024)  # in MB\n",
    "parquet_size_1x = os.path.getsize(parquet_file_1x) / (1024 * 1024)\n",
    "\n",
    "\n",
    "# Print results\n",
    "print(f\"CSV Read Time: {csv_read_time_1x:.4f}s\")\n",
    "print(f\"CSV Write Time: - {csv_write_time_1x:.4f}s\")\n",
    "print(f\"Parquet Read Time: {parquet_read_time_1x:.4f}s\")\n",
    "print(f\"Parquet Write Time: {parquet_write_time_1x:.4f}s\")\n",
    "print(f\"CSV Size: {csv_size_1x:.2f} MB\")\n",
    "print(f\"Parquet Size (zstd): {parquet_size_1x:.2f} MB\")"
   ]
  },
  {
   "cell_type": "markdown",
   "metadata": {},
   "source": [
    "# Benchmarking for 10x"
   ]
  },
  {
   "cell_type": "code",
   "execution_count": 10,
   "metadata": {},
   "outputs": [
    {
     "name": "stdout",
     "output_type": "stream",
     "text": [
      "CSV Read Time: 3.1831s\n",
      "Parquet Read Time: 0.9870s\n",
      "CSV Write Time: 17.6560s\n",
      "Parquet Write Time: 2.9702s\n",
      "CSV Size: 288.01 MB\n",
      "Parquet Size (zstd): 75.43 MB\n"
     ]
    }
   ],
   "source": [
    "# Load CSV\n",
    "csv_file_10x = './all_stocks_5yr_10x.csv'\n",
    "df_10x = pd.read_csv(csv_file_10x)\n",
    "\n",
    "# Benchmark CSV write time\n",
    "start = time.time()\n",
    "df_10x.to_csv(csv_file_10x, index=False)  # Writing CSV\n",
    "csv_write_time_10x = time.time() - start\n",
    "\n",
    "\n",
    "# Benchmark CSV Read Time\n",
    "start = time.time()\n",
    "df_benchmark_10x = pd.read_csv(csv_file_10x)\n",
    "csv_read_time_10x = time.time() - start\n",
    "\n",
    "# Convert to Parquet with different compression options\n",
    "parquet_file_10x = './all_stocks_5yr_10x.parquet'\n",
    "start = time.time()\n",
    "df_10x.to_parquet(parquet_file_10x, engine=\"pyarrow\", compression=\"zstd\") # Convert to Parquet with different compression options\n",
    "parquet_write_time_10x = time.time() - start\n",
    "\n",
    "# Benchmark Parquet Read Time\n",
    "start = time.time()\n",
    "df_parquet_10x = pd.read_parquet(parquet_file_10x, engine=\"pyarrow\")\n",
    "parquet_read_time_10x = time.time() - start\n",
    "\n",
    "\n",
    "# Storage sizes\n",
    "csv_size_10x = os.path.getsize(csv_file_10x) / (1024 * 1024)  # in MB\n",
    "parquet_size_10x = os.path.getsize(parquet_file_10x) / (1024 * 1024)\n",
    "\n",
    "\n",
    "# Print results\n",
    "print(f\"CSV Read Time: {csv_read_time_10x:.4f}s\")\n",
    "print(f\"Parquet Read Time: {parquet_read_time_10x:.4f}s\")\n",
    "print(f\"CSV Write Time: {csv_write_time_10x:.4f}s\")\n",
    "print(f\"Parquet Write Time: {parquet_write_time_10x:.4f}s\")\n",
    "print(f\"CSV Size: {csv_size_10x:.2f} MB\")\n",
    "print(f\"Parquet Size (zstd): {parquet_size_10x:.2f} MB\")"
   ]
  },
  {
   "cell_type": "markdown",
   "metadata": {},
   "source": [
    "# Benchmarking for 100x"
   ]
  },
  {
   "cell_type": "code",
   "execution_count": 11,
   "metadata": {},
   "outputs": [
    {
     "name": "stdout",
     "output_type": "stream",
     "text": [
      "CSV Read Time: 0.0409s\n",
      "Parquet Read Time: 105.3366s\n",
      "CSV Write Time: 297.7248s\n",
      "Parquet Write Time: 157.0846s\n",
      "CSV Size: 2939.09 MB\n",
      "Parquet Size (zstd): 1271.86 MB\n"
     ]
    }
   ],
   "source": [
    "# Load CSV\n",
    "csv_file_100x = './all_stocks_5yr_100x.csv'\n",
    "chunk_size = 10000\n",
    "\n",
    "\n",
    "# Benchmark CSV write time\n",
    "# Expand CSV to 100x (Using Chunking for Efficiency)**\n",
    "start = time.time()\n",
    "with open(csv_file_100x, \"w\") as f_out:\n",
    "    for i in range(100):  # Repeat 100 times\n",
    "        for chunk in pd.read_csv(csv_file_1x, chunksize=chunk_size):\n",
    "            chunk.to_csv(f_out, mode=\"a\", index=False, header=(f_out.tell() == 0))\n",
    "csv_write_time_100x = time.time() - start\n",
    "\n",
    "\n",
    "# Benchmark CSV Read Time\n",
    "start = time.time()\n",
    "# for chunk in pd.read_csv(csv_file_100x, chunksize=chunk_size):\n",
    "#     chunks.append(chunk)\n",
    "# df_100x = pd.concat(chunks, ignore_index=True)\n",
    "chunks = pd.read_csv(csv_file_100x, chunksize=chunk_size)\n",
    "csv_read_time_100x = time.time() - start\n",
    "\n",
    "# Define schema based on the first chunk\n",
    "first_chunk = next(chunks)\n",
    "schema = pa.Table.from_pandas(first_chunk).schema\n",
    "\n",
    "\n",
    "# Convert to Parquet with different compression options\n",
    "parquet_file_100x = './all_stocks_5yr_100x.parquet'\n",
    "start = time.time()\n",
    "\n",
    "# Write in chunks to avoid memory issues\n",
    "with pq.ParquetWriter(parquet_file_100x, schema=schema, compression='zstd') as writer:\n",
    "    writer.write_table(pa.Table.from_pandas(first_chunk))\n",
    "    for chunk in chunks:\n",
    "        table = pa.Table.from_pandas(chunk)\n",
    "        writer.write_table(table)\n",
    "\n",
    "parquet_write_time_100x = time.time() - start\n",
    "\n",
    "# Benchmark Parquet Read Time\n",
    "start = time.time()\n",
    "df_parquet_100x = pd.read_parquet(parquet_file_100x, engine=\"pyarrow\")\n",
    "parquet_read_time_100x = time.time() - start\n",
    "\n",
    "\n",
    "# Storage sizes\n",
    "csv_size_100x = os.path.getsize(csv_file_100x) / (1024 * 1024)  # in MB\n",
    "parquet_size_100x = os.path.getsize(parquet_file_100x) / (1024 * 1024)\n",
    "\n",
    "\n",
    "# Print results\n",
    "print(f\"CSV Read Time: {csv_read_time_100x:.4f}s\")\n",
    "print(f\"Parquet Read Time: {parquet_read_time_100x:.4f}s\")\n",
    "print(f\"CSV Write Time: {csv_write_time_100x:.4f}s\")\n",
    "print(f\"Parquet Write Time: {parquet_write_time_100x:.4f}s\")\n",
    "print(f\"CSV Size: {csv_size_100x:.2f} MB\")\n",
    "print(f\"Parquet Size (zstd): {parquet_size_100x:.2f} MB\")"
   ]
  },
  {
   "cell_type": "markdown",
   "metadata": {},
   "source": [
    "# Delete memory variables if they no longer in use"
   ]
  },
  {
   "cell_type": "code",
   "execution_count": null,
   "metadata": {},
   "outputs": [
    {
     "data": {
      "text/plain": [
       "20"
      ]
     },
     "execution_count": 12,
     "metadata": {},
     "output_type": "execute_result"
    }
   ],
   "source": [
    "del df_10x, df_parquet_100x, data_expanded_100x, data_expanded_10x, df_benchmark_10x, df_parquet_10x, original_data_1x  # Delete large DataFrames\n",
    "gc.collect()\n",
    "\n"
   ]
  },
  {
   "cell_type": "code",
   "execution_count": 6,
   "metadata": {},
   "outputs": [],
   "source": [
    "# Ensure data is sorted by date\n",
    "df_1x['date'] = pd.to_datetime(df_1x['date'])\n",
    "df_1x = df_1x.sort_values(by=['date', 'name'])\n",
    "\n",
    "\n",
    "### ** Exponential Moving Average (EMA) - 14 Days**\n",
    "df_1x['EMA_14'] = df_1x.groupby('name')['close'].transform(lambda x: x.ewm(span=14, adjust=False).mean())\n",
    "\n",
    "\n",
    "### ** Relative Strength Index (RSI) - 14 Days**\n",
    "def compute_rsi(series, window=14):\n",
    "    delta = series.diff()\n",
    "    gain = (delta.where(delta > 0, 0)).rolling(window=window).mean()\n",
    "    loss = (-delta.where(delta < 0, 0)).rolling(window=window).mean()\n",
    "    rs = gain / loss\n",
    "    return 100 - (100 / (1 + rs))\n",
    "\n",
    "df_1x['RSI_14'] = df_1x.groupby('name')['close'].transform(compute_rsi)\n",
    "\n",
    "\n",
    "### ** MACD - Trend & Momentum Indicator**\n",
    "short_ema = df_1x.groupby('name')['close'].transform(lambda x: x.ewm(span=12, adjust=False).mean())\n",
    "long_ema = df_1x.groupby('name')['close'].transform(lambda x: x.ewm(span=26, adjust=False).mean())\n",
    "df_1x['MACD'] = short_ema - long_ema  # MACD Line\n",
    "df_1x['MACD_Signal'] = df_1x.groupby('name')['MACD'].transform(lambda x: x.ewm(span=9, adjust=False).mean())  # Signal Line\n",
    "\n",
    "\n",
    "### **Bollinger Bands Calculation**\n",
    "window = 20  # Standard period\n",
    "std_multiplier = 2  # Default multiplier\n",
    "\n",
    "# Calculate SMA (Middle Band)\n",
    "df_1x['BB_Middle'] = df_1x.groupby('name')['close'].transform(lambda x: x.rolling(window=window).mean())\n",
    "\n",
    "# Calculate Standard Deviation\n",
    "df_1x['BB_Std'] = df_1x.groupby('name')['close'].transform(lambda x: x.rolling(window=window).std())\n",
    "\n",
    "# Calculate Upper & Lower Bands\n",
    "df_1x['BB_Upper'] = df_1x['BB_Middle'] + (df_1x['BB_Std'] * std_multiplier)\n",
    "df_1x['BB_Lower'] = df_1x['BB_Middle'] - (df_1x['BB_Std'] * std_multiplier)\n",
    "\n",
    "# Drop the temporary standard deviation column\n",
    "df_1x.drop(columns=['BB_Std'], inplace=True)\n",
    "\n",
    "\n"
   ]
  },
  {
   "cell_type": "code",
   "execution_count": 7,
   "metadata": {},
   "outputs": [
    {
     "data": {
      "application/vnd.microsoft.datawrangler.viewer.v0+json": {
       "columns": [
        {
         "name": "index",
         "rawType": "int64",
         "type": "integer"
        },
        {
         "name": "date",
         "rawType": "datetime64[ns]",
         "type": "datetime"
        },
        {
         "name": "open",
         "rawType": "float64",
         "type": "float"
        },
        {
         "name": "high",
         "rawType": "float64",
         "type": "float"
        },
        {
         "name": "low",
         "rawType": "float64",
         "type": "float"
        },
        {
         "name": "close",
         "rawType": "float64",
         "type": "float"
        },
        {
         "name": "volume",
         "rawType": "int64",
         "type": "integer"
        },
        {
         "name": "name",
         "rawType": "object",
         "type": "string"
        },
        {
         "name": "EMA_14",
         "rawType": "float64",
         "type": "float"
        },
        {
         "name": "RSI_14",
         "rawType": "float64",
         "type": "float"
        },
        {
         "name": "MACD",
         "rawType": "float64",
         "type": "float"
        },
        {
         "name": "MACD_Signal",
         "rawType": "float64",
         "type": "float"
        },
        {
         "name": "BB_Middle",
         "rawType": "float64",
         "type": "float"
        },
        {
         "name": "BB_Upper",
         "rawType": "float64",
         "type": "float"
        },
        {
         "name": "BB_Lower",
         "rawType": "float64",
         "type": "float"
        }
       ],
       "conversionMethod": "pd.DataFrame",
       "ref": "2555268c-1d64-4642-bfcf-0aa4a0aa12dc",
       "rows": [
        [
         "614003",
         "2018-02-07 00:00:00",
         "71.27",
         "72.86",
         "71.12",
         "71.79",
         "1748941",
         "XYL",
         "72.5261903413467",
         "52.463768115942045",
         "0.984860530952119",
         "1.2347073725614797",
         "72.2255",
         "75.5476202804699",
         "68.9033797195301"
        ],
        [
         "615262",
         "2018-02-07 00:00:00",
         "80.07",
         "81.94",
         "80.0",
         "80.13",
         "3561068",
         "YUM",
         "82.83347216898673",
         "38.11048839071261",
         "-0.3244519201112013",
         "0.34365766830449684",
         "83.611",
         "87.46910916328397",
         "79.75289083671603"
        ],
        [
         "616521",
         "2018-02-07 00:00:00",
         "121.65",
         "123.52",
         "120.74",
         "120.78",
         "1145267",
         "ZBH",
         "124.21636302915199",
         "46.51851851851852",
         "0.729323738960403",
         "1.4488357621958068",
         "124.20750000000001",
         "128.56965724033944",
         "119.8453427596606"
        ],
        [
         "617780",
         "2018-02-07 00:00:00",
         "52.23",
         "54.315",
         "52.22",
         "54.02",
         "6427280",
         "ZION",
         "53.39035262589074",
         "55.451127819548894",
         "0.5912281860372133",
         "0.8019805638049745",
         "53.506499999999996",
         "55.097795731557625",
         "51.915204268442366"
        ],
        [
         "619039",
         "2018-02-07 00:00:00",
         "72.7",
         "75.0",
         "72.69",
         "73.86",
         "4534912",
         "ZTS",
         "75.97709224227154",
         "40.749063670411985",
         "0.3768219589802584",
         "1.0924670719223424",
         "76.5855",
         "80.57068031025601",
         "72.60031968974398"
        ]
       ],
       "shape": {
        "columns": 14,
        "rows": 5
       }
      },
      "text/html": [
       "<div>\n",
       "<style scoped>\n",
       "    .dataframe tbody tr th:only-of-type {\n",
       "        vertical-align: middle;\n",
       "    }\n",
       "\n",
       "    .dataframe tbody tr th {\n",
       "        vertical-align: top;\n",
       "    }\n",
       "\n",
       "    .dataframe thead th {\n",
       "        text-align: right;\n",
       "    }\n",
       "</style>\n",
       "<table border=\"1\" class=\"dataframe\">\n",
       "  <thead>\n",
       "    <tr style=\"text-align: right;\">\n",
       "      <th></th>\n",
       "      <th>date</th>\n",
       "      <th>open</th>\n",
       "      <th>high</th>\n",
       "      <th>low</th>\n",
       "      <th>close</th>\n",
       "      <th>volume</th>\n",
       "      <th>name</th>\n",
       "      <th>EMA_14</th>\n",
       "      <th>RSI_14</th>\n",
       "      <th>MACD</th>\n",
       "      <th>MACD_Signal</th>\n",
       "      <th>BB_Middle</th>\n",
       "      <th>BB_Upper</th>\n",
       "      <th>BB_Lower</th>\n",
       "    </tr>\n",
       "  </thead>\n",
       "  <tbody>\n",
       "    <tr>\n",
       "      <th>614003</th>\n",
       "      <td>2018-02-07</td>\n",
       "      <td>71.27</td>\n",
       "      <td>72.860</td>\n",
       "      <td>71.12</td>\n",
       "      <td>71.79</td>\n",
       "      <td>1748941</td>\n",
       "      <td>XYL</td>\n",
       "      <td>72.526190</td>\n",
       "      <td>52.463768</td>\n",
       "      <td>0.984861</td>\n",
       "      <td>1.234707</td>\n",
       "      <td>72.2255</td>\n",
       "      <td>75.547620</td>\n",
       "      <td>68.903380</td>\n",
       "    </tr>\n",
       "    <tr>\n",
       "      <th>615262</th>\n",
       "      <td>2018-02-07</td>\n",
       "      <td>80.07</td>\n",
       "      <td>81.940</td>\n",
       "      <td>80.00</td>\n",
       "      <td>80.13</td>\n",
       "      <td>3561068</td>\n",
       "      <td>YUM</td>\n",
       "      <td>82.833472</td>\n",
       "      <td>38.110488</td>\n",
       "      <td>-0.324452</td>\n",
       "      <td>0.343658</td>\n",
       "      <td>83.6110</td>\n",
       "      <td>87.469109</td>\n",
       "      <td>79.752891</td>\n",
       "    </tr>\n",
       "    <tr>\n",
       "      <th>616521</th>\n",
       "      <td>2018-02-07</td>\n",
       "      <td>121.65</td>\n",
       "      <td>123.520</td>\n",
       "      <td>120.74</td>\n",
       "      <td>120.78</td>\n",
       "      <td>1145267</td>\n",
       "      <td>ZBH</td>\n",
       "      <td>124.216363</td>\n",
       "      <td>46.518519</td>\n",
       "      <td>0.729324</td>\n",
       "      <td>1.448836</td>\n",
       "      <td>124.2075</td>\n",
       "      <td>128.569657</td>\n",
       "      <td>119.845343</td>\n",
       "    </tr>\n",
       "    <tr>\n",
       "      <th>617780</th>\n",
       "      <td>2018-02-07</td>\n",
       "      <td>52.23</td>\n",
       "      <td>54.315</td>\n",
       "      <td>52.22</td>\n",
       "      <td>54.02</td>\n",
       "      <td>6427280</td>\n",
       "      <td>ZION</td>\n",
       "      <td>53.390353</td>\n",
       "      <td>55.451128</td>\n",
       "      <td>0.591228</td>\n",
       "      <td>0.801981</td>\n",
       "      <td>53.5065</td>\n",
       "      <td>55.097796</td>\n",
       "      <td>51.915204</td>\n",
       "    </tr>\n",
       "    <tr>\n",
       "      <th>619039</th>\n",
       "      <td>2018-02-07</td>\n",
       "      <td>72.70</td>\n",
       "      <td>75.000</td>\n",
       "      <td>72.69</td>\n",
       "      <td>73.86</td>\n",
       "      <td>4534912</td>\n",
       "      <td>ZTS</td>\n",
       "      <td>75.977092</td>\n",
       "      <td>40.749064</td>\n",
       "      <td>0.376822</td>\n",
       "      <td>1.092467</td>\n",
       "      <td>76.5855</td>\n",
       "      <td>80.570680</td>\n",
       "      <td>72.600320</td>\n",
       "    </tr>\n",
       "  </tbody>\n",
       "</table>\n",
       "</div>"
      ],
      "text/plain": [
       "             date    open     high     low   close   volume  name      EMA_14  \\\n",
       "614003 2018-02-07   71.27   72.860   71.12   71.79  1748941   XYL   72.526190   \n",
       "615262 2018-02-07   80.07   81.940   80.00   80.13  3561068   YUM   82.833472   \n",
       "616521 2018-02-07  121.65  123.520  120.74  120.78  1145267   ZBH  124.216363   \n",
       "617780 2018-02-07   52.23   54.315   52.22   54.02  6427280  ZION   53.390353   \n",
       "619039 2018-02-07   72.70   75.000   72.69   73.86  4534912   ZTS   75.977092   \n",
       "\n",
       "           RSI_14      MACD  MACD_Signal  BB_Middle    BB_Upper    BB_Lower  \n",
       "614003  52.463768  0.984861     1.234707    72.2255   75.547620   68.903380  \n",
       "615262  38.110488 -0.324452     0.343658    83.6110   87.469109   79.752891  \n",
       "616521  46.518519  0.729324     1.448836   124.2075  128.569657  119.845343  \n",
       "617780  55.451128  0.591228     0.801981    53.5065   55.097796   51.915204  \n",
       "619039  40.749064  0.376822     1.092467    76.5855   80.570680   72.600320  "
      ]
     },
     "execution_count": 7,
     "metadata": {},
     "output_type": "execute_result"
    }
   ],
   "source": [
    "df_1x.tail()"
   ]
  },
  {
   "cell_type": "code",
   "execution_count": 8,
   "metadata": {},
   "outputs": [
    {
     "data": {
      "text/plain": [
       "date              0\n",
       "open             11\n",
       "high              8\n",
       "low               8\n",
       "close             0\n",
       "volume            0\n",
       "name              0\n",
       "EMA_14            0\n",
       "RSI_14         6565\n",
       "MACD              0\n",
       "MACD_Signal       0\n",
       "BB_Middle      9595\n",
       "BB_Upper       9595\n",
       "BB_Lower       9595\n",
       "dtype: int64"
      ]
     },
     "execution_count": 8,
     "metadata": {},
     "output_type": "execute_result"
    }
   ],
   "source": [
    "df_1x.isnull().sum()"
   ]
  },
  {
   "cell_type": "markdown",
   "metadata": {},
   "source": [
    "# Handling missing values using forward-fill"
   ]
  },
  {
   "cell_type": "code",
   "execution_count": 9,
   "metadata": {},
   "outputs": [],
   "source": [
    "df_1x[['RSI_14', 'BB_Middle', 'BB_Upper', 'BB_Lower']] = df_1x[['RSI_14', 'BB_Middle', 'BB_Upper', 'BB_Lower']].ffill()\n"
   ]
  },
  {
   "cell_type": "code",
   "execution_count": 10,
   "metadata": {},
   "outputs": [
    {
     "data": {
      "text/plain": [
       "date              0\n",
       "open             11\n",
       "high              8\n",
       "low               8\n",
       "close             0\n",
       "volume            0\n",
       "name              0\n",
       "EMA_14            0\n",
       "RSI_14         6188\n",
       "MACD              0\n",
       "MACD_Signal       0\n",
       "BB_Middle      9044\n",
       "BB_Upper       9044\n",
       "BB_Lower       9044\n",
       "dtype: int64"
      ]
     },
     "execution_count": 10,
     "metadata": {},
     "output_type": "execute_result"
    }
   ],
   "source": [
    "df_1x.isnull().sum()"
   ]
  },
  {
   "cell_type": "code",
   "execution_count": 11,
   "metadata": {},
   "outputs": [],
   "source": [
    "df_1x[['open','high','low']] = df_1x[['open','high','low']].ffill()"
   ]
  },
  {
   "cell_type": "code",
   "execution_count": 12,
   "metadata": {},
   "outputs": [
    {
     "data": {
      "text/plain": [
       "date              0\n",
       "open              0\n",
       "high              0\n",
       "low               0\n",
       "close             0\n",
       "volume            0\n",
       "name              0\n",
       "EMA_14            0\n",
       "RSI_14         6188\n",
       "MACD              0\n",
       "MACD_Signal       0\n",
       "BB_Middle      9044\n",
       "BB_Upper       9044\n",
       "BB_Lower       9044\n",
       "dtype: int64"
      ]
     },
     "execution_count": 12,
     "metadata": {},
     "output_type": "execute_result"
    }
   ],
   "source": [
    "df_1x.isnull().sum()"
   ]
  },
  {
   "cell_type": "code",
   "execution_count": 13,
   "metadata": {},
   "outputs": [],
   "source": [
    "df_1x.dropna(inplace=True)"
   ]
  },
  {
   "cell_type": "code",
   "execution_count": 14,
   "metadata": {},
   "outputs": [
    {
     "data": {
      "text/plain": [
       "date           0\n",
       "open           0\n",
       "high           0\n",
       "low            0\n",
       "close          0\n",
       "volume         0\n",
       "name           0\n",
       "EMA_14         0\n",
       "RSI_14         0\n",
       "MACD           0\n",
       "MACD_Signal    0\n",
       "BB_Middle      0\n",
       "BB_Upper       0\n",
       "BB_Lower       0\n",
       "dtype: int64"
      ]
     },
     "execution_count": 14,
     "metadata": {},
     "output_type": "execute_result"
    }
   ],
   "source": [
    "df_1x.isnull().sum()"
   ]
  },
  {
   "cell_type": "markdown",
   "metadata": {},
   "source": [
    "# Saving the cleaned dataset with technical indicators introduced"
   ]
  },
  {
   "cell_type": "code",
   "execution_count": 15,
   "metadata": {},
   "outputs": [],
   "source": [
    "df_1x.to_csv(\"all_stocks_5yr_with_indicators_cleaned.csv\", index=False)"
   ]
  },
  {
   "cell_type": "code",
   "execution_count": 16,
   "metadata": {},
   "outputs": [
    {
     "data": {
      "text/plain": [
       "203"
      ]
     },
     "execution_count": 16,
     "metadata": {},
     "output_type": "execute_result"
    }
   ],
   "source": [
    "del df_1x\n",
    "gc.collect()"
   ]
  },
  {
   "cell_type": "code",
   "execution_count": 17,
   "metadata": {},
   "outputs": [],
   "source": [
    "df = pd.read_csv(\"all_stocks_5yr_with_indicators_cleaned.csv\")"
   ]
  },
  {
   "cell_type": "code",
   "execution_count": 18,
   "metadata": {},
   "outputs": [],
   "source": [
    "# Select Features (X) - Exclude \"date\", \"name\", and \"close\" (target variable)\n",
    "X = df.drop(columns=[\"date\", \"name\", \"close\"])\n",
    "\n",
    "# Target Variable (y) - Predicting \"close\" price\n",
    "y = df[\"close\"]"
   ]
  },
  {
   "cell_type": "code",
   "execution_count": 19,
   "metadata": {},
   "outputs": [],
   "source": [
    "# Split data into 80% training and 20% testing (without shuffling)\n",
    "X_train, X_test, y_train, y_test = train_test_split(X, y, test_size=0.2, shuffle=False)"
   ]
  },
  {
   "cell_type": "markdown",
   "metadata": {},
   "source": [
    "# Random Forest Regressor Model"
   ]
  },
  {
   "cell_type": "code",
   "execution_count": 20,
   "metadata": {},
   "outputs": [],
   "source": [
    "# Initialize Random Forest Regressor\n",
    "rf_model = RandomForestRegressor(n_estimators=100, random_state=42)\n",
    "\n",
    "# Train the model\n",
    "rf_model.fit(X_train, y_train)\n",
    "\n",
    "# Predict on test set\n",
    "rf_predictions = rf_model.predict(X_test)"
   ]
  },
  {
   "cell_type": "code",
   "execution_count": 21,
   "metadata": {},
   "outputs": [
    {
     "name": "stdout",
     "output_type": "stream",
     "text": [
      " Random Forest - MAE: 0.7868, RMSE: 9.9199\n",
      " Random Forest - R² Score: 0.9940\n"
     ]
    }
   ],
   "source": [
    "# Evaluate Performance\n",
    "rf_mae = mean_absolute_error(y_test, rf_predictions)\n",
    "rf_rmse = np.sqrt(mean_squared_error(y_test, rf_predictions))\n",
    "rf_r2 = r2_score(y_test, rf_predictions)\n",
    "\n",
    "print(f\" Random Forest - MAE: {rf_mae:.4f}, RMSE: {rf_rmse:.4f}\")\n",
    "print(f\" Random Forest - R² Score: {rf_r2:.4f}\")\n",
    "\n"
   ]
  },
  {
   "cell_type": "markdown",
   "metadata": {},
   "source": [
    "# XGBoost Model"
   ]
  },
  {
   "cell_type": "code",
   "execution_count": 22,
   "metadata": {},
   "outputs": [],
   "source": [
    "import xgboost as xgb\n",
    "\n",
    "# Initialize XGBoost Regressor\n",
    "xgb_model = xgb.XGBRegressor(objective=\"reg:squarederror\", n_estimators=100, random_state=42)\n",
    "\n",
    "# Train the model\n",
    "xgb_model.fit(X_train, y_train)\n",
    "\n",
    "# Predict on test set\n",
    "xgb_predictions = xgb_model.predict(X_test)\n",
    "\n"
   ]
  },
  {
   "cell_type": "code",
   "execution_count": 23,
   "metadata": {},
   "outputs": [
    {
     "name": "stdout",
     "output_type": "stream",
     "text": [
      " XGBoost - MAE: 3.2610, RMSE: 34.0805\n",
      " XGBoost - R² Score: 0.9289\n"
     ]
    }
   ],
   "source": [
    "# Evaluate Performance\n",
    "xgb_mae = mean_absolute_error(y_test, xgb_predictions)\n",
    "xgb_rmse = np.sqrt(mean_squared_error(y_test, xgb_predictions))\n",
    "xgb_r2 = r2_score(y_test, xgb_predictions)\n",
    "\n",
    "print(f\" XGBoost - MAE: {xgb_mae:.4f}, RMSE: {xgb_rmse:.4f}\")\n",
    "print(f\" XGBoost - R² Score: {xgb_r2:.4f}\")"
   ]
  },
  {
   "cell_type": "code",
   "execution_count": 24,
   "metadata": {},
   "outputs": [
    {
     "name": "stdout",
     "output_type": "stream",
     "text": [
      "📌 Random Forest - MAPE: 0.41%\n",
      "📌 XGBoost - MAPE: 1.02%\n"
     ]
    }
   ],
   "source": [
    "def mean_absolute_percentage_error(y_true, y_pred):\n",
    "    return np.mean(np.abs((y_true - y_pred) / y_true)) * 100\n",
    "\n",
    "rf_mape = mean_absolute_percentage_error(y_test, rf_predictions)\n",
    "xgb_mape = mean_absolute_percentage_error(y_test, xgb_predictions)\n",
    "\n",
    "print(f\"📌 Random Forest - MAPE: {rf_mape:.2f}%\")\n",
    "print(f\"📌 XGBoost - MAPE: {xgb_mape:.2f}%\")"
   ]
  },
  {
   "cell_type": "code",
   "execution_count": 25,
   "metadata": {},
   "outputs": [
    {
     "name": "stdout",
     "output_type": "stream",
     "text": [
      "(122000,)\n",
      "(122000,)\n"
     ]
    }
   ],
   "source": [
    "#df['RF_Prediction'] = rf_predictions\n",
    "#df['XGB_Prediction'] = xgb_predictions\n",
    "\n",
    "print(rf_predictions.shape)\n",
    "print(xgb_predictions.shape)"
   ]
  },
  {
   "cell_type": "markdown",
   "metadata": {},
   "source": [
    "# Dashboarding"
   ]
  },
  {
   "cell_type": "code",
   "execution_count": 35,
   "metadata": {},
   "outputs": [
    {
     "name": "stdout",
     "output_type": "stream",
     "text": [
      "Requirement already satisfied: dash in c:\\users\\sanda\\anaconda3\\lib\\site-packages (2.18.2)\n",
      "Requirement already satisfied: Flask<3.1,>=1.0.4 in c:\\users\\sanda\\anaconda3\\lib\\site-packages (from dash) (3.0.3)\n",
      "Requirement already satisfied: Werkzeug<3.1 in c:\\users\\sanda\\anaconda3\\lib\\site-packages (from dash) (3.0.3)\n",
      "Requirement already satisfied: plotly>=5.0.0 in c:\\users\\sanda\\anaconda3\\lib\\site-packages (from dash) (5.22.0)\n",
      "Requirement already satisfied: dash-html-components==2.0.0 in c:\\users\\sanda\\anaconda3\\lib\\site-packages (from dash) (2.0.0)\n",
      "Requirement already satisfied: dash-core-components==2.0.0 in c:\\users\\sanda\\anaconda3\\lib\\site-packages (from dash) (2.0.0)\n",
      "Requirement already satisfied: dash-table==5.0.0 in c:\\users\\sanda\\anaconda3\\lib\\site-packages (from dash) (5.0.0)\n",
      "Requirement already satisfied: importlib-metadata in c:\\users\\sanda\\anaconda3\\lib\\site-packages (from dash) (7.0.1)\n",
      "Requirement already satisfied: typing-extensions>=4.1.1 in c:\\users\\sanda\\anaconda3\\lib\\site-packages (from dash) (4.11.0)\n",
      "Requirement already satisfied: requests in c:\\users\\sanda\\anaconda3\\lib\\site-packages (from dash) (2.32.2)\n",
      "Requirement already satisfied: retrying in c:\\users\\sanda\\anaconda3\\lib\\site-packages (from dash) (1.3.4)\n",
      "Requirement already satisfied: nest-asyncio in c:\\users\\sanda\\anaconda3\\lib\\site-packages (from dash) (1.6.0)\n",
      "Requirement already satisfied: setuptools in c:\\users\\sanda\\anaconda3\\lib\\site-packages (from dash) (69.5.1)\n",
      "Requirement already satisfied: Jinja2>=3.1.2 in c:\\users\\sanda\\anaconda3\\lib\\site-packages (from Flask<3.1,>=1.0.4->dash) (3.1.4)\n",
      "Requirement already satisfied: itsdangerous>=2.1.2 in c:\\users\\sanda\\anaconda3\\lib\\site-packages (from Flask<3.1,>=1.0.4->dash) (2.2.0)\n",
      "Requirement already satisfied: click>=8.1.3 in c:\\users\\sanda\\anaconda3\\lib\\site-packages (from Flask<3.1,>=1.0.4->dash) (8.1.7)\n",
      "Requirement already satisfied: blinker>=1.6.2 in c:\\users\\sanda\\anaconda3\\lib\\site-packages (from Flask<3.1,>=1.0.4->dash) (1.6.2)\n",
      "Requirement already satisfied: tenacity>=6.2.0 in c:\\users\\sanda\\anaconda3\\lib\\site-packages (from plotly>=5.0.0->dash) (8.2.2)\n",
      "Requirement already satisfied: packaging in c:\\users\\sanda\\anaconda3\\lib\\site-packages (from plotly>=5.0.0->dash) (23.2)\n",
      "Requirement already satisfied: MarkupSafe>=2.1.1 in c:\\users\\sanda\\anaconda3\\lib\\site-packages (from Werkzeug<3.1->dash) (2.1.3)\n",
      "Requirement already satisfied: zipp>=0.5 in c:\\users\\sanda\\anaconda3\\lib\\site-packages (from importlib-metadata->dash) (3.17.0)\n",
      "Requirement already satisfied: charset-normalizer<4,>=2 in c:\\users\\sanda\\anaconda3\\lib\\site-packages (from requests->dash) (2.0.4)\n",
      "Requirement already satisfied: idna<4,>=2.5 in c:\\users\\sanda\\anaconda3\\lib\\site-packages (from requests->dash) (3.7)\n",
      "Requirement already satisfied: urllib3<3,>=1.21.1 in c:\\users\\sanda\\anaconda3\\lib\\site-packages (from requests->dash) (2.2.2)\n",
      "Requirement already satisfied: certifi>=2017.4.17 in c:\\users\\sanda\\anaconda3\\lib\\site-packages (from requests->dash) (2024.8.30)\n",
      "Requirement already satisfied: six>=1.7.0 in c:\\users\\sanda\\anaconda3\\lib\\site-packages (from retrying->dash) (1.16.0)\n",
      "Requirement already satisfied: colorama in c:\\users\\sanda\\anaconda3\\lib\\site-packages (from click>=8.1.3->Flask<3.1,>=1.0.4->dash) (0.4.6)\n",
      "Note: you may need to restart the kernel to use updated packages.\n"
     ]
    }
   ],
   "source": [
    "pip install dash"
   ]
  },
  {
   "cell_type": "code",
   "execution_count": 36,
   "metadata": {},
   "outputs": [],
   "source": [
    "import dash\n",
    "from dash import dcc, html"
   ]
  },
  {
   "cell_type": "code",
   "execution_count": 37,
   "metadata": {},
   "outputs": [
    {
     "name": "stdout",
     "output_type": "stream",
     "text": [
      "Requirement already satisfied: jupyter-dash in c:\\users\\sanda\\anaconda3\\lib\\site-packages (0.4.2)\n",
      "Requirement already satisfied: dash in c:\\users\\sanda\\anaconda3\\lib\\site-packages (from jupyter-dash) (2.18.2)\n",
      "Requirement already satisfied: requests in c:\\users\\sanda\\anaconda3\\lib\\site-packages (from jupyter-dash) (2.32.2)\n",
      "Requirement already satisfied: flask in c:\\users\\sanda\\anaconda3\\lib\\site-packages (from jupyter-dash) (3.0.3)\n",
      "Requirement already satisfied: retrying in c:\\users\\sanda\\anaconda3\\lib\\site-packages (from jupyter-dash) (1.3.4)\n",
      "Requirement already satisfied: ipython in c:\\users\\sanda\\anaconda3\\lib\\site-packages (from jupyter-dash) (8.25.0)\n",
      "Requirement already satisfied: ipykernel in c:\\users\\sanda\\anaconda3\\lib\\site-packages (from jupyter-dash) (6.28.0)\n",
      "Requirement already satisfied: ansi2html in c:\\users\\sanda\\anaconda3\\lib\\site-packages (from jupyter-dash) (1.9.2)\n",
      "Requirement already satisfied: nest-asyncio in c:\\users\\sanda\\anaconda3\\lib\\site-packages (from jupyter-dash) (1.6.0)\n",
      "Requirement already satisfied: Werkzeug<3.1 in c:\\users\\sanda\\anaconda3\\lib\\site-packages (from dash->jupyter-dash) (3.0.3)\n",
      "Requirement already satisfied: plotly>=5.0.0 in c:\\users\\sanda\\anaconda3\\lib\\site-packages (from dash->jupyter-dash) (5.22.0)\n",
      "Requirement already satisfied: dash-html-components==2.0.0 in c:\\users\\sanda\\anaconda3\\lib\\site-packages (from dash->jupyter-dash) (2.0.0)\n",
      "Requirement already satisfied: dash-core-components==2.0.0 in c:\\users\\sanda\\anaconda3\\lib\\site-packages (from dash->jupyter-dash) (2.0.0)\n",
      "Requirement already satisfied: dash-table==5.0.0 in c:\\users\\sanda\\anaconda3\\lib\\site-packages (from dash->jupyter-dash) (5.0.0)\n",
      "Requirement already satisfied: importlib-metadata in c:\\users\\sanda\\anaconda3\\lib\\site-packages (from dash->jupyter-dash) (7.0.1)\n",
      "Requirement already satisfied: typing-extensions>=4.1.1 in c:\\users\\sanda\\anaconda3\\lib\\site-packages (from dash->jupyter-dash) (4.11.0)\n",
      "Requirement already satisfied: setuptools in c:\\users\\sanda\\anaconda3\\lib\\site-packages (from dash->jupyter-dash) (69.5.1)\n",
      "Requirement already satisfied: Jinja2>=3.1.2 in c:\\users\\sanda\\anaconda3\\lib\\site-packages (from flask->jupyter-dash) (3.1.4)\n",
      "Requirement already satisfied: itsdangerous>=2.1.2 in c:\\users\\sanda\\anaconda3\\lib\\site-packages (from flask->jupyter-dash) (2.2.0)\n",
      "Requirement already satisfied: click>=8.1.3 in c:\\users\\sanda\\anaconda3\\lib\\site-packages (from flask->jupyter-dash) (8.1.7)\n",
      "Requirement already satisfied: blinker>=1.6.2 in c:\\users\\sanda\\anaconda3\\lib\\site-packages (from flask->jupyter-dash) (1.6.2)\n",
      "Requirement already satisfied: comm>=0.1.1 in c:\\users\\sanda\\anaconda3\\lib\\site-packages (from ipykernel->jupyter-dash) (0.2.1)\n",
      "Requirement already satisfied: debugpy>=1.6.5 in c:\\users\\sanda\\anaconda3\\lib\\site-packages (from ipykernel->jupyter-dash) (1.6.7)\n",
      "Requirement already satisfied: jupyter-client>=6.1.12 in c:\\users\\sanda\\anaconda3\\lib\\site-packages (from ipykernel->jupyter-dash) (8.6.0)\n",
      "Requirement already satisfied: jupyter-core!=5.0.*,>=4.12 in c:\\users\\sanda\\anaconda3\\lib\\site-packages (from ipykernel->jupyter-dash) (5.7.2)\n",
      "Requirement already satisfied: matplotlib-inline>=0.1 in c:\\users\\sanda\\anaconda3\\lib\\site-packages (from ipykernel->jupyter-dash) (0.1.6)\n",
      "Requirement already satisfied: packaging in c:\\users\\sanda\\anaconda3\\lib\\site-packages (from ipykernel->jupyter-dash) (23.2)\n",
      "Requirement already satisfied: psutil in c:\\users\\sanda\\anaconda3\\lib\\site-packages (from ipykernel->jupyter-dash) (5.9.0)\n",
      "Requirement already satisfied: pyzmq>=24 in c:\\users\\sanda\\anaconda3\\lib\\site-packages (from ipykernel->jupyter-dash) (25.1.2)\n",
      "Requirement already satisfied: tornado>=6.1 in c:\\users\\sanda\\anaconda3\\lib\\site-packages (from ipykernel->jupyter-dash) (6.4.1)\n",
      "Requirement already satisfied: traitlets>=5.4.0 in c:\\users\\sanda\\anaconda3\\lib\\site-packages (from ipykernel->jupyter-dash) (5.14.3)\n",
      "Requirement already satisfied: decorator in c:\\users\\sanda\\anaconda3\\lib\\site-packages (from ipython->jupyter-dash) (5.1.1)\n",
      "Requirement already satisfied: jedi>=0.16 in c:\\users\\sanda\\anaconda3\\lib\\site-packages (from ipython->jupyter-dash) (0.18.1)\n",
      "Requirement already satisfied: prompt-toolkit<3.1.0,>=3.0.41 in c:\\users\\sanda\\anaconda3\\lib\\site-packages (from ipython->jupyter-dash) (3.0.43)\n",
      "Requirement already satisfied: pygments>=2.4.0 in c:\\users\\sanda\\anaconda3\\lib\\site-packages (from ipython->jupyter-dash) (2.15.1)\n",
      "Requirement already satisfied: stack-data in c:\\users\\sanda\\anaconda3\\lib\\site-packages (from ipython->jupyter-dash) (0.2.0)\n",
      "Requirement already satisfied: colorama in c:\\users\\sanda\\anaconda3\\lib\\site-packages (from ipython->jupyter-dash) (0.4.6)\n",
      "Requirement already satisfied: charset-normalizer<4,>=2 in c:\\users\\sanda\\anaconda3\\lib\\site-packages (from requests->jupyter-dash) (2.0.4)\n",
      "Requirement already satisfied: idna<4,>=2.5 in c:\\users\\sanda\\anaconda3\\lib\\site-packages (from requests->jupyter-dash) (3.7)\n",
      "Requirement already satisfied: urllib3<3,>=1.21.1 in c:\\users\\sanda\\anaconda3\\lib\\site-packages (from requests->jupyter-dash) (2.2.2)\n",
      "Requirement already satisfied: certifi>=2017.4.17 in c:\\users\\sanda\\anaconda3\\lib\\site-packages (from requests->jupyter-dash) (2024.8.30)\n",
      "Requirement already satisfied: six>=1.7.0 in c:\\users\\sanda\\anaconda3\\lib\\site-packages (from retrying->jupyter-dash) (1.16.0)\n",
      "Requirement already satisfied: parso<0.9.0,>=0.8.0 in c:\\users\\sanda\\anaconda3\\lib\\site-packages (from jedi>=0.16->ipython->jupyter-dash) (0.8.3)\n",
      "Requirement already satisfied: MarkupSafe>=2.0 in c:\\users\\sanda\\anaconda3\\lib\\site-packages (from Jinja2>=3.1.2->flask->jupyter-dash) (2.1.3)\n",
      "Requirement already satisfied: python-dateutil>=2.8.2 in c:\\users\\sanda\\anaconda3\\lib\\site-packages (from jupyter-client>=6.1.12->ipykernel->jupyter-dash) (2.9.0.post0)\n",
      "Requirement already satisfied: platformdirs>=2.5 in c:\\users\\sanda\\anaconda3\\lib\\site-packages (from jupyter-core!=5.0.*,>=4.12->ipykernel->jupyter-dash) (3.10.0)\n",
      "Requirement already satisfied: pywin32>=300 in c:\\users\\sanda\\anaconda3\\lib\\site-packages (from jupyter-core!=5.0.*,>=4.12->ipykernel->jupyter-dash) (305.1)\n",
      "Requirement already satisfied: tenacity>=6.2.0 in c:\\users\\sanda\\anaconda3\\lib\\site-packages (from plotly>=5.0.0->dash->jupyter-dash) (8.2.2)\n",
      "Requirement already satisfied: wcwidth in c:\\users\\sanda\\anaconda3\\lib\\site-packages (from prompt-toolkit<3.1.0,>=3.0.41->ipython->jupyter-dash) (0.2.5)\n",
      "Requirement already satisfied: zipp>=0.5 in c:\\users\\sanda\\anaconda3\\lib\\site-packages (from importlib-metadata->dash->jupyter-dash) (3.17.0)\n",
      "Requirement already satisfied: executing in c:\\users\\sanda\\anaconda3\\lib\\site-packages (from stack-data->ipython->jupyter-dash) (0.8.3)\n",
      "Requirement already satisfied: asttokens in c:\\users\\sanda\\anaconda3\\lib\\site-packages (from stack-data->ipython->jupyter-dash) (2.0.5)\n",
      "Requirement already satisfied: pure-eval in c:\\users\\sanda\\anaconda3\\lib\\site-packages (from stack-data->ipython->jupyter-dash) (0.2.2)\n",
      "Note: you may need to restart the kernel to use updated packages.\n"
     ]
    }
   ],
   "source": [
    "pip install jupyter-dash\n"
   ]
  },
  {
   "cell_type": "code",
   "execution_count": 38,
   "metadata": {},
   "outputs": [],
   "source": [
    "from jupyter_dash import JupyterDash"
   ]
  },
  {
   "cell_type": "code",
   "execution_count": 39,
   "metadata": {},
   "outputs": [
    {
     "name": "stdout",
     "output_type": "stream",
     "text": [
      "Requirement already satisfied: dash-bootstrap-components in c:\\users\\sanda\\anaconda3\\lib\\site-packages (1.7.1)\n",
      "Requirement already satisfied: dash>=2.0.0 in c:\\users\\sanda\\anaconda3\\lib\\site-packages (from dash-bootstrap-components) (2.18.2)\n",
      "Requirement already satisfied: Flask<3.1,>=1.0.4 in c:\\users\\sanda\\anaconda3\\lib\\site-packages (from dash>=2.0.0->dash-bootstrap-components) (3.0.3)\n",
      "Requirement already satisfied: Werkzeug<3.1 in c:\\users\\sanda\\anaconda3\\lib\\site-packages (from dash>=2.0.0->dash-bootstrap-components) (3.0.3)\n",
      "Requirement already satisfied: plotly>=5.0.0 in c:\\users\\sanda\\anaconda3\\lib\\site-packages (from dash>=2.0.0->dash-bootstrap-components) (5.22.0)\n",
      "Requirement already satisfied: dash-html-components==2.0.0 in c:\\users\\sanda\\anaconda3\\lib\\site-packages (from dash>=2.0.0->dash-bootstrap-components) (2.0.0)\n",
      "Requirement already satisfied: dash-core-components==2.0.0 in c:\\users\\sanda\\anaconda3\\lib\\site-packages (from dash>=2.0.0->dash-bootstrap-components) (2.0.0)\n",
      "Requirement already satisfied: dash-table==5.0.0 in c:\\users\\sanda\\anaconda3\\lib\\site-packages (from dash>=2.0.0->dash-bootstrap-components) (5.0.0)\n",
      "Requirement already satisfied: importlib-metadata in c:\\users\\sanda\\anaconda3\\lib\\site-packages (from dash>=2.0.0->dash-bootstrap-components) (7.0.1)\n",
      "Requirement already satisfied: typing-extensions>=4.1.1 in c:\\users\\sanda\\anaconda3\\lib\\site-packages (from dash>=2.0.0->dash-bootstrap-components) (4.11.0)\n",
      "Requirement already satisfied: requests in c:\\users\\sanda\\anaconda3\\lib\\site-packages (from dash>=2.0.0->dash-bootstrap-components) (2.32.2)\n",
      "Requirement already satisfied: retrying in c:\\users\\sanda\\anaconda3\\lib\\site-packages (from dash>=2.0.0->dash-bootstrap-components) (1.3.4)\n",
      "Requirement already satisfied: nest-asyncio in c:\\users\\sanda\\anaconda3\\lib\\site-packages (from dash>=2.0.0->dash-bootstrap-components) (1.6.0)\n",
      "Requirement already satisfied: setuptools in c:\\users\\sanda\\anaconda3\\lib\\site-packages (from dash>=2.0.0->dash-bootstrap-components) (69.5.1)\n",
      "Requirement already satisfied: Jinja2>=3.1.2 in c:\\users\\sanda\\anaconda3\\lib\\site-packages (from Flask<3.1,>=1.0.4->dash>=2.0.0->dash-bootstrap-components) (3.1.4)\n",
      "Requirement already satisfied: itsdangerous>=2.1.2 in c:\\users\\sanda\\anaconda3\\lib\\site-packages (from Flask<3.1,>=1.0.4->dash>=2.0.0->dash-bootstrap-components) (2.2.0)\n",
      "Requirement already satisfied: click>=8.1.3 in c:\\users\\sanda\\anaconda3\\lib\\site-packages (from Flask<3.1,>=1.0.4->dash>=2.0.0->dash-bootstrap-components) (8.1.7)\n",
      "Requirement already satisfied: blinker>=1.6.2 in c:\\users\\sanda\\anaconda3\\lib\\site-packages (from Flask<3.1,>=1.0.4->dash>=2.0.0->dash-bootstrap-components) (1.6.2)\n",
      "Requirement already satisfied: tenacity>=6.2.0 in c:\\users\\sanda\\anaconda3\\lib\\site-packages (from plotly>=5.0.0->dash>=2.0.0->dash-bootstrap-components) (8.2.2)\n",
      "Requirement already satisfied: packaging in c:\\users\\sanda\\anaconda3\\lib\\site-packages (from plotly>=5.0.0->dash>=2.0.0->dash-bootstrap-components) (23.2)\n",
      "Requirement already satisfied: MarkupSafe>=2.1.1 in c:\\users\\sanda\\anaconda3\\lib\\site-packages (from Werkzeug<3.1->dash>=2.0.0->dash-bootstrap-components) (2.1.3)\n",
      "Requirement already satisfied: zipp>=0.5 in c:\\users\\sanda\\anaconda3\\lib\\site-packages (from importlib-metadata->dash>=2.0.0->dash-bootstrap-components) (3.17.0)\n",
      "Requirement already satisfied: charset-normalizer<4,>=2 in c:\\users\\sanda\\anaconda3\\lib\\site-packages (from requests->dash>=2.0.0->dash-bootstrap-components) (2.0.4)\n",
      "Requirement already satisfied: idna<4,>=2.5 in c:\\users\\sanda\\anaconda3\\lib\\site-packages (from requests->dash>=2.0.0->dash-bootstrap-components) (3.7)\n",
      "Requirement already satisfied: urllib3<3,>=1.21.1 in c:\\users\\sanda\\anaconda3\\lib\\site-packages (from requests->dash>=2.0.0->dash-bootstrap-components) (2.2.2)\n",
      "Requirement already satisfied: certifi>=2017.4.17 in c:\\users\\sanda\\anaconda3\\lib\\site-packages (from requests->dash>=2.0.0->dash-bootstrap-components) (2024.8.30)\n",
      "Requirement already satisfied: six>=1.7.0 in c:\\users\\sanda\\anaconda3\\lib\\site-packages (from retrying->dash>=2.0.0->dash-bootstrap-components) (1.16.0)\n",
      "Requirement already satisfied: colorama in c:\\users\\sanda\\anaconda3\\lib\\site-packages (from click>=8.1.3->Flask<3.1,>=1.0.4->dash>=2.0.0->dash-bootstrap-components) (0.4.6)\n",
      "Note: you may need to restart the kernel to use updated packages.\n"
     ]
    }
   ],
   "source": [
    "pip install dash-bootstrap-components"
   ]
  },
  {
   "cell_type": "code",
   "execution_count": 40,
   "metadata": {},
   "outputs": [
    {
     "ename": "KeyError",
     "evalue": "'Indicator'",
     "output_type": "error",
     "traceback": [
      "\u001b[1;31m---------------------------------------------------------------------------\u001b[0m",
      "\u001b[1;31mKeyError\u001b[0m                                  Traceback (most recent call last)",
      "File \u001b[1;32mc:\\Users\\sanda\\anaconda3\\Lib\\site-packages\\pandas\\core\\indexes\\base.py:3805\u001b[0m, in \u001b[0;36mIndex.get_loc\u001b[1;34m(self, key)\u001b[0m\n\u001b[0;32m   3804\u001b[0m \u001b[38;5;28;01mtry\u001b[39;00m:\n\u001b[1;32m-> 3805\u001b[0m     \u001b[38;5;28;01mreturn\u001b[39;00m \u001b[38;5;28mself\u001b[39m\u001b[38;5;241m.\u001b[39m_engine\u001b[38;5;241m.\u001b[39mget_loc(casted_key)\n\u001b[0;32m   3806\u001b[0m \u001b[38;5;28;01mexcept\u001b[39;00m \u001b[38;5;167;01mKeyError\u001b[39;00m \u001b[38;5;28;01mas\u001b[39;00m err:\n",
      "File \u001b[1;32mindex.pyx:167\u001b[0m, in \u001b[0;36mpandas._libs.index.IndexEngine.get_loc\u001b[1;34m()\u001b[0m\n",
      "File \u001b[1;32mindex.pyx:196\u001b[0m, in \u001b[0;36mpandas._libs.index.IndexEngine.get_loc\u001b[1;34m()\u001b[0m\n",
      "File \u001b[1;32mpandas\\\\_libs\\\\hashtable_class_helper.pxi:7081\u001b[0m, in \u001b[0;36mpandas._libs.hashtable.PyObjectHashTable.get_item\u001b[1;34m()\u001b[0m\n",
      "File \u001b[1;32mpandas\\\\_libs\\\\hashtable_class_helper.pxi:7089\u001b[0m, in \u001b[0;36mpandas._libs.hashtable.PyObjectHashTable.get_item\u001b[1;34m()\u001b[0m\n",
      "\u001b[1;31mKeyError\u001b[0m: 'Indicator'",
      "\nThe above exception was the direct cause of the following exception:\n",
      "\u001b[1;31mKeyError\u001b[0m                                  Traceback (most recent call last)",
      "Cell \u001b[1;32mIn[40], line 30\u001b[0m\n\u001b[0;32m     19\u001b[0m app \u001b[38;5;241m=\u001b[39m dash\u001b[38;5;241m.\u001b[39mDash(\u001b[38;5;18m__name__\u001b[39m, external_stylesheets\u001b[38;5;241m=\u001b[39m[dbc\u001b[38;5;241m.\u001b[39mthemes\u001b[38;5;241m.\u001b[39mSOLAR])  \u001b[38;5;66;03m# Change theme here\u001b[39;00m\n\u001b[0;32m     21\u001b[0m \u001b[38;5;66;03m# Layout\u001b[39;00m\n\u001b[0;32m     22\u001b[0m app\u001b[38;5;241m.\u001b[39mlayout \u001b[38;5;241m=\u001b[39m dbc\u001b[38;5;241m.\u001b[39mContainer([\n\u001b[0;32m     23\u001b[0m     html\u001b[38;5;241m.\u001b[39mH1(\u001b[38;5;124m\"\u001b[39m\u001b[38;5;124mBenchmarking Dashboard: CSV vs Parquet\u001b[39m\u001b[38;5;124m\"\u001b[39m, className\u001b[38;5;241m=\u001b[39m\u001b[38;5;124m\"\u001b[39m\u001b[38;5;124mtext-center mt-4 mb-4\u001b[39m\u001b[38;5;124m\"\u001b[39m),\n\u001b[0;32m     24\u001b[0m \n\u001b[0;32m     25\u001b[0m     dbc\u001b[38;5;241m.\u001b[39mRow([\n\u001b[0;32m     26\u001b[0m         dbc\u001b[38;5;241m.\u001b[39mCol([\n\u001b[0;32m     27\u001b[0m             html\u001b[38;5;241m.\u001b[39mLabel(\u001b[38;5;124m\"\u001b[39m\u001b[38;5;124mSelect Indicator:\u001b[39m\u001b[38;5;124m\"\u001b[39m, className\u001b[38;5;241m=\u001b[39m\u001b[38;5;124m\"\u001b[39m\u001b[38;5;124mfw-bold\u001b[39m\u001b[38;5;124m\"\u001b[39m),\n\u001b[0;32m     28\u001b[0m             dcc\u001b[38;5;241m.\u001b[39mDropdown(\n\u001b[0;32m     29\u001b[0m                 \u001b[38;5;28mid\u001b[39m\u001b[38;5;241m=\u001b[39m\u001b[38;5;124m\"\u001b[39m\u001b[38;5;124mindicator-dropdown\u001b[39m\u001b[38;5;124m\"\u001b[39m,\n\u001b[1;32m---> 30\u001b[0m                 options\u001b[38;5;241m=\u001b[39m[{\u001b[38;5;124m\"\u001b[39m\u001b[38;5;124mlabel\u001b[39m\u001b[38;5;124m\"\u001b[39m: i, \u001b[38;5;124m\"\u001b[39m\u001b[38;5;124mvalue\u001b[39m\u001b[38;5;124m\"\u001b[39m: i} \u001b[38;5;28;01mfor\u001b[39;00m i \u001b[38;5;129;01min\u001b[39;00m df[\u001b[38;5;124m\"\u001b[39m\u001b[38;5;124mIndicator\u001b[39m\u001b[38;5;124m\"\u001b[39m]],\n\u001b[0;32m     31\u001b[0m                 value\u001b[38;5;241m=\u001b[39m\u001b[38;5;124m\"\u001b[39m\u001b[38;5;124mWrite Time\u001b[39m\u001b[38;5;124m\"\u001b[39m,\n\u001b[0;32m     32\u001b[0m                 clearable\u001b[38;5;241m=\u001b[39m\u001b[38;5;28;01mFalse\u001b[39;00m,\n\u001b[0;32m     33\u001b[0m                 className\u001b[38;5;241m=\u001b[39m\u001b[38;5;124m\"\u001b[39m\u001b[38;5;124mmb-3\u001b[39m\u001b[38;5;124m\"\u001b[39m\n\u001b[0;32m     34\u001b[0m             )\n\u001b[0;32m     35\u001b[0m         ], width\u001b[38;5;241m=\u001b[39m\u001b[38;5;241m6\u001b[39m)\n\u001b[0;32m     36\u001b[0m     ]),\n\u001b[0;32m     37\u001b[0m \n\u001b[0;32m     38\u001b[0m     dbc\u001b[38;5;241m.\u001b[39mRow([\n\u001b[0;32m     39\u001b[0m         dbc\u001b[38;5;241m.\u001b[39mCol(dcc\u001b[38;5;241m.\u001b[39mGraph(\u001b[38;5;28mid\u001b[39m\u001b[38;5;241m=\u001b[39m\u001b[38;5;124m\"\u001b[39m\u001b[38;5;124mbenchmark-chart\u001b[39m\u001b[38;5;124m\"\u001b[39m), width\u001b[38;5;241m=\u001b[39m\u001b[38;5;241m12\u001b[39m)\n\u001b[0;32m     40\u001b[0m     ]),\n\u001b[0;32m     41\u001b[0m \n\u001b[0;32m     42\u001b[0m     html\u001b[38;5;241m.\u001b[39mBr(),\n\u001b[0;32m     43\u001b[0m     dbc\u001b[38;5;241m.\u001b[39mRow([\n\u001b[0;32m     44\u001b[0m         dbc\u001b[38;5;241m.\u001b[39mCol(html\u001b[38;5;241m.\u001b[39mDiv(\u001b[38;5;124m\"\u001b[39m\u001b[38;5;124m📊 Data Overview\u001b[39m\u001b[38;5;124m\"\u001b[39m, className\u001b[38;5;241m=\u001b[39m\u001b[38;5;124m\"\u001b[39m\u001b[38;5;124mfw-bold fs-4 text-primary\u001b[39m\u001b[38;5;124m\"\u001b[39m), width\u001b[38;5;241m=\u001b[39m\u001b[38;5;241m12\u001b[39m)\n\u001b[0;32m     45\u001b[0m     ]),\n\u001b[0;32m     46\u001b[0m     dbc\u001b[38;5;241m.\u001b[39mRow([\n\u001b[0;32m     47\u001b[0m         dbc\u001b[38;5;241m.\u001b[39mCol(dbc\u001b[38;5;241m.\u001b[39mTable\u001b[38;5;241m.\u001b[39mfrom_dataframe(df, striped\u001b[38;5;241m=\u001b[39m\u001b[38;5;28;01mTrue\u001b[39;00m, bordered\u001b[38;5;241m=\u001b[39m\u001b[38;5;28;01mTrue\u001b[39;00m, hover\u001b[38;5;241m=\u001b[39m\u001b[38;5;28;01mTrue\u001b[39;00m), width\u001b[38;5;241m=\u001b[39m\u001b[38;5;241m12\u001b[39m)\n\u001b[0;32m     48\u001b[0m     ])\n\u001b[0;32m     49\u001b[0m ], fluid\u001b[38;5;241m=\u001b[39m\u001b[38;5;28;01mTrue\u001b[39;00m)\n\u001b[0;32m     51\u001b[0m \u001b[38;5;66;03m# Callback for updating the chart\u001b[39;00m\n\u001b[0;32m     52\u001b[0m \u001b[38;5;129m@app\u001b[39m\u001b[38;5;241m.\u001b[39mcallback(\n\u001b[0;32m     53\u001b[0m     Output(\u001b[38;5;124m\"\u001b[39m\u001b[38;5;124mbenchmark-chart\u001b[39m\u001b[38;5;124m\"\u001b[39m, \u001b[38;5;124m\"\u001b[39m\u001b[38;5;124mfigure\u001b[39m\u001b[38;5;124m\"\u001b[39m),\n\u001b[0;32m     54\u001b[0m     Input(\u001b[38;5;124m\"\u001b[39m\u001b[38;5;124mindicator-dropdown\u001b[39m\u001b[38;5;124m\"\u001b[39m, \u001b[38;5;124m\"\u001b[39m\u001b[38;5;124mvalue\u001b[39m\u001b[38;5;124m\"\u001b[39m)\n\u001b[0;32m     55\u001b[0m )\n\u001b[0;32m     56\u001b[0m \u001b[38;5;28;01mdef\u001b[39;00m \u001b[38;5;21mupdate_chart\u001b[39m(indicator):\n",
      "File \u001b[1;32mc:\\Users\\sanda\\anaconda3\\Lib\\site-packages\\pandas\\core\\frame.py:4102\u001b[0m, in \u001b[0;36mDataFrame.__getitem__\u001b[1;34m(self, key)\u001b[0m\n\u001b[0;32m   4100\u001b[0m \u001b[38;5;28;01mif\u001b[39;00m \u001b[38;5;28mself\u001b[39m\u001b[38;5;241m.\u001b[39mcolumns\u001b[38;5;241m.\u001b[39mnlevels \u001b[38;5;241m>\u001b[39m \u001b[38;5;241m1\u001b[39m:\n\u001b[0;32m   4101\u001b[0m     \u001b[38;5;28;01mreturn\u001b[39;00m \u001b[38;5;28mself\u001b[39m\u001b[38;5;241m.\u001b[39m_getitem_multilevel(key)\n\u001b[1;32m-> 4102\u001b[0m indexer \u001b[38;5;241m=\u001b[39m \u001b[38;5;28mself\u001b[39m\u001b[38;5;241m.\u001b[39mcolumns\u001b[38;5;241m.\u001b[39mget_loc(key)\n\u001b[0;32m   4103\u001b[0m \u001b[38;5;28;01mif\u001b[39;00m is_integer(indexer):\n\u001b[0;32m   4104\u001b[0m     indexer \u001b[38;5;241m=\u001b[39m [indexer]\n",
      "File \u001b[1;32mc:\\Users\\sanda\\anaconda3\\Lib\\site-packages\\pandas\\core\\indexes\\base.py:3812\u001b[0m, in \u001b[0;36mIndex.get_loc\u001b[1;34m(self, key)\u001b[0m\n\u001b[0;32m   3807\u001b[0m     \u001b[38;5;28;01mif\u001b[39;00m \u001b[38;5;28misinstance\u001b[39m(casted_key, \u001b[38;5;28mslice\u001b[39m) \u001b[38;5;129;01mor\u001b[39;00m (\n\u001b[0;32m   3808\u001b[0m         \u001b[38;5;28misinstance\u001b[39m(casted_key, abc\u001b[38;5;241m.\u001b[39mIterable)\n\u001b[0;32m   3809\u001b[0m         \u001b[38;5;129;01mand\u001b[39;00m \u001b[38;5;28many\u001b[39m(\u001b[38;5;28misinstance\u001b[39m(x, \u001b[38;5;28mslice\u001b[39m) \u001b[38;5;28;01mfor\u001b[39;00m x \u001b[38;5;129;01min\u001b[39;00m casted_key)\n\u001b[0;32m   3810\u001b[0m     ):\n\u001b[0;32m   3811\u001b[0m         \u001b[38;5;28;01mraise\u001b[39;00m InvalidIndexError(key)\n\u001b[1;32m-> 3812\u001b[0m     \u001b[38;5;28;01mraise\u001b[39;00m \u001b[38;5;167;01mKeyError\u001b[39;00m(key) \u001b[38;5;28;01mfrom\u001b[39;00m \u001b[38;5;21;01merr\u001b[39;00m\n\u001b[0;32m   3813\u001b[0m \u001b[38;5;28;01mexcept\u001b[39;00m \u001b[38;5;167;01mTypeError\u001b[39;00m:\n\u001b[0;32m   3814\u001b[0m     \u001b[38;5;66;03m# If we have a listlike key, _check_indexing_error will raise\u001b[39;00m\n\u001b[0;32m   3815\u001b[0m     \u001b[38;5;66;03m#  InvalidIndexError. Otherwise we fall through and re-raise\u001b[39;00m\n\u001b[0;32m   3816\u001b[0m     \u001b[38;5;66;03m#  the TypeError.\u001b[39;00m\n\u001b[0;32m   3817\u001b[0m     \u001b[38;5;28mself\u001b[39m\u001b[38;5;241m.\u001b[39m_check_indexing_error(key)\n",
      "\u001b[1;31mKeyError\u001b[0m: 'Indicator'"
     ]
    }
   ],
   "source": [
    "\n",
    "import dash_bootstrap_components as dbc\n",
    "from dash import dcc, html, Input, Output\n",
    "import plotly.express as px\n",
    "import pandas as pd\n",
    "\n",
    "# Load Data\n",
    "data = {\n",
    "    \"Indicator\": [\"Write Time\", \"Read Time\", \"Size (MB)\"],\n",
    "    \"CSV 1x\": [2.5568, 0.4831, 28.8],\n",
    "    \"Parquet 1x\": [0.7258, 0.3468, 8.09],\n",
    "    \"CSV 10x\": [17.656, 3.1831, 288.01],\n",
    "    \"Parquet 10x\": [2.9702, 0.987, 75.43],\n",
    "    \"CSV 100x\": [297.7248, 0.0409, 2929.09],\n",
    "    \"Parquet 100x\": [157.0846, 105.3366, 1271.86],\n",
    "}\n",
    "dashboard_data = pd.DataFrame(data)\n",
    "\n",
    "# Initialize Dash App\n",
    "app = dash.Dash(__name__, external_stylesheets=[dbc.themes.SOLAR])  # Change theme here\n",
    "\n",
    "# Layout\n",
    "app.layout = dbc.Container([\n",
    "    html.H1(\"Benchmarking Dashboard: CSV vs Parquet\", className=\"text-center mt-4 mb-4\"),\n",
    "\n",
    "    dbc.Row([\n",
    "        dbc.Col([\n",
    "            html.Label(\"Select Indicator:\", className=\"fw-bold\"),\n",
    "            dcc.Dropdown(\n",
    "                id=\"indicator-dropdown\",\n",
    "                options=[{\"label\": i, \"value\": i} for i in df[\"Indicator\"]],\n",
    "                value=\"Write Time\",\n",
    "                clearable=False,\n",
    "                className=\"mb-3\"\n",
    "            )\n",
    "        ], width=6)\n",
    "    ]),\n",
    "\n",
    "    dbc.Row([\n",
    "        dbc.Col(dcc.Graph(id=\"benchmark-chart\"), width=12)\n",
    "    ]),\n",
    "\n",
    "    html.Br(),\n",
    "    dbc.Row([\n",
    "        dbc.Col(html.Div(\"📊 Data Overview\", className=\"fw-bold fs-4 text-primary\"), width=12)\n",
    "    ]),\n",
    "    dbc.Row([\n",
    "        dbc.Col(dbc.Table.from_dataframe(df, striped=True, bordered=True, hover=True), width=12)\n",
    "    ])\n",
    "], fluid=True)\n",
    "\n",
    "# Callback for updating the chart\n",
    "@app.callback(\n",
    "    Output(\"benchmark-chart\", \"figure\"),\n",
    "    Input(\"indicator-dropdown\", \"value\")\n",
    ")\n",
    "def update_chart(indicator):\n",
    "    filtered_df = dashboard_data[dashboard_data[\"Indicator\"] == indicator].T.reset_index()\n",
    "    filtered_df.columns = [\"Scale\", \"Value\"]\n",
    "    filtered_df = filtered_df.iloc[1:]\n",
    "\n",
    "    fig = px.bar(filtered_df, x=\"Scale\", y=\"Value\", color=\"Scale\",\n",
    "                 title=f\"{indicator} Performance at Different Scales\",\n",
    "                 labels={\"Value\": \"Time (s) / Storage (MB)\"},\n",
    "                 template=\"plotly_dark\")  # Change template for dark theme\n",
    "\n",
    "    return fig\n",
    "\n",
    "# Run Server\n",
    "if __name__ == \"__main__\":\n",
    "    app.run_server(debug=True)\n"
   ]
  },
  {
   "cell_type": "code",
   "execution_count": 31,
   "metadata": {},
   "outputs": [
    {
     "data": {
      "application/vnd.microsoft.datawrangler.viewer.v0+json": {
       "columns": [
        {
         "name": "index",
         "rawType": "int64",
         "type": "integer"
        },
        {
         "name": "date",
         "rawType": "object",
         "type": "string"
        },
        {
         "name": "open",
         "rawType": "float64",
         "type": "float"
        },
        {
         "name": "high",
         "rawType": "float64",
         "type": "float"
        },
        {
         "name": "low",
         "rawType": "float64",
         "type": "float"
        },
        {
         "name": "close",
         "rawType": "float64",
         "type": "float"
        },
        {
         "name": "volume",
         "rawType": "int64",
         "type": "integer"
        },
        {
         "name": "name",
         "rawType": "object",
         "type": "string"
        },
        {
         "name": "EMA_14",
         "rawType": "float64",
         "type": "float"
        },
        {
         "name": "RSI_14",
         "rawType": "float64",
         "type": "float"
        },
        {
         "name": "MACD",
         "rawType": "float64",
         "type": "float"
        },
        {
         "name": "MACD_Signal",
         "rawType": "float64",
         "type": "float"
        },
        {
         "name": "BB_Middle",
         "rawType": "float64",
         "type": "float"
        },
        {
         "name": "BB_Upper",
         "rawType": "float64",
         "type": "float"
        },
        {
         "name": "BB_Lower",
         "rawType": "float64",
         "type": "float"
        }
       ],
       "conversionMethod": "pd.DataFrame",
       "ref": "afbc9a66-e437-4875-be8a-9794d18c5171",
       "rows": [
        [
         "0",
         "2013-03-08",
         "43.5",
         "43.52",
         "43.02",
         "43.03",
         "3256301",
         "A",
         "42.700635629231925",
         "56.351791530944645",
         "-0.4763845809549138",
         "-0.6763853685398789",
         "42.8085",
         "45.407449382873175",
         "40.209550617126816"
        ],
        [
         "1",
         "2013-03-08",
         "14.99",
         "15.2",
         "14.84",
         "14.92",
         "10593700",
         "AAL",
         "14.150636098274632",
         "55.44041450777201",
         "-0.014945938432918",
         "-0.1903567203610819",
         "14.0075",
         "15.205671853063524",
         "12.809328146936473"
        ],
        [
         "2",
         "2013-03-08",
         "76.44",
         "77.16",
         "75.6302",
         "76.84",
         "736386",
         "AAP",
         "77.31007390113028",
         "37.83783783783777",
         "-0.6600331859155659",
         "-0.4757719909865097",
         "77.99600000000001",
         "80.62572001711612",
         "75.3662799828839"
        ],
        [
         "3",
         "2013-03-08",
         "61.3999",
         "62.2042",
         "61.2299",
         "61.6742",
         "97854442",
         "AAPL",
         "62.79803518643698",
         "33.187953621941006",
         "-1.6255539191151485",
         "-1.4086100303481963",
         "64.068855",
         "69.00587539929477",
         "59.131834600705226"
        ],
        [
         "4",
         "2013-03-08",
         "37.64",
         "37.65",
         "37.16",
         "37.34",
         "4114449",
         "ABBV",
         "37.42578820256726",
         "48.03921568627456",
         "0.2935597806013206",
         "0.3298054094941376",
         "37.261",
         "39.28312915408227",
         "35.23887084591774"
        ]
       ],
       "shape": {
        "columns": 14,
        "rows": 5
       }
      },
      "text/html": [
       "<div>\n",
       "<style scoped>\n",
       "    .dataframe tbody tr th:only-of-type {\n",
       "        vertical-align: middle;\n",
       "    }\n",
       "\n",
       "    .dataframe tbody tr th {\n",
       "        vertical-align: top;\n",
       "    }\n",
       "\n",
       "    .dataframe thead th {\n",
       "        text-align: right;\n",
       "    }\n",
       "</style>\n",
       "<table border=\"1\" class=\"dataframe\">\n",
       "  <thead>\n",
       "    <tr style=\"text-align: right;\">\n",
       "      <th></th>\n",
       "      <th>date</th>\n",
       "      <th>open</th>\n",
       "      <th>high</th>\n",
       "      <th>low</th>\n",
       "      <th>close</th>\n",
       "      <th>volume</th>\n",
       "      <th>name</th>\n",
       "      <th>EMA_14</th>\n",
       "      <th>RSI_14</th>\n",
       "      <th>MACD</th>\n",
       "      <th>MACD_Signal</th>\n",
       "      <th>BB_Middle</th>\n",
       "      <th>BB_Upper</th>\n",
       "      <th>BB_Lower</th>\n",
       "    </tr>\n",
       "  </thead>\n",
       "  <tbody>\n",
       "    <tr>\n",
       "      <th>0</th>\n",
       "      <td>2013-03-08</td>\n",
       "      <td>43.5000</td>\n",
       "      <td>43.5200</td>\n",
       "      <td>43.0200</td>\n",
       "      <td>43.0300</td>\n",
       "      <td>3256301</td>\n",
       "      <td>A</td>\n",
       "      <td>42.700636</td>\n",
       "      <td>56.351792</td>\n",
       "      <td>-0.476385</td>\n",
       "      <td>-0.676385</td>\n",
       "      <td>42.808500</td>\n",
       "      <td>45.407449</td>\n",
       "      <td>40.209551</td>\n",
       "    </tr>\n",
       "    <tr>\n",
       "      <th>1</th>\n",
       "      <td>2013-03-08</td>\n",
       "      <td>14.9900</td>\n",
       "      <td>15.2000</td>\n",
       "      <td>14.8400</td>\n",
       "      <td>14.9200</td>\n",
       "      <td>10593700</td>\n",
       "      <td>AAL</td>\n",
       "      <td>14.150636</td>\n",
       "      <td>55.440415</td>\n",
       "      <td>-0.014946</td>\n",
       "      <td>-0.190357</td>\n",
       "      <td>14.007500</td>\n",
       "      <td>15.205672</td>\n",
       "      <td>12.809328</td>\n",
       "    </tr>\n",
       "    <tr>\n",
       "      <th>2</th>\n",
       "      <td>2013-03-08</td>\n",
       "      <td>76.4400</td>\n",
       "      <td>77.1600</td>\n",
       "      <td>75.6302</td>\n",
       "      <td>76.8400</td>\n",
       "      <td>736386</td>\n",
       "      <td>AAP</td>\n",
       "      <td>77.310074</td>\n",
       "      <td>37.837838</td>\n",
       "      <td>-0.660033</td>\n",
       "      <td>-0.475772</td>\n",
       "      <td>77.996000</td>\n",
       "      <td>80.625720</td>\n",
       "      <td>75.366280</td>\n",
       "    </tr>\n",
       "    <tr>\n",
       "      <th>3</th>\n",
       "      <td>2013-03-08</td>\n",
       "      <td>61.3999</td>\n",
       "      <td>62.2042</td>\n",
       "      <td>61.2299</td>\n",
       "      <td>61.6742</td>\n",
       "      <td>97854442</td>\n",
       "      <td>AAPL</td>\n",
       "      <td>62.798035</td>\n",
       "      <td>33.187954</td>\n",
       "      <td>-1.625554</td>\n",
       "      <td>-1.408610</td>\n",
       "      <td>64.068855</td>\n",
       "      <td>69.005875</td>\n",
       "      <td>59.131835</td>\n",
       "    </tr>\n",
       "    <tr>\n",
       "      <th>4</th>\n",
       "      <td>2013-03-08</td>\n",
       "      <td>37.6400</td>\n",
       "      <td>37.6500</td>\n",
       "      <td>37.1600</td>\n",
       "      <td>37.3400</td>\n",
       "      <td>4114449</td>\n",
       "      <td>ABBV</td>\n",
       "      <td>37.425788</td>\n",
       "      <td>48.039216</td>\n",
       "      <td>0.293560</td>\n",
       "      <td>0.329805</td>\n",
       "      <td>37.261000</td>\n",
       "      <td>39.283129</td>\n",
       "      <td>35.238871</td>\n",
       "    </tr>\n",
       "  </tbody>\n",
       "</table>\n",
       "</div>"
      ],
      "text/plain": [
       "         date     open     high      low    close    volume  name     EMA_14  \\\n",
       "0  2013-03-08  43.5000  43.5200  43.0200  43.0300   3256301     A  42.700636   \n",
       "1  2013-03-08  14.9900  15.2000  14.8400  14.9200  10593700   AAL  14.150636   \n",
       "2  2013-03-08  76.4400  77.1600  75.6302  76.8400    736386   AAP  77.310074   \n",
       "3  2013-03-08  61.3999  62.2042  61.2299  61.6742  97854442  AAPL  62.798035   \n",
       "4  2013-03-08  37.6400  37.6500  37.1600  37.3400   4114449  ABBV  37.425788   \n",
       "\n",
       "      RSI_14      MACD  MACD_Signal  BB_Middle   BB_Upper   BB_Lower  \n",
       "0  56.351792 -0.476385    -0.676385  42.808500  45.407449  40.209551  \n",
       "1  55.440415 -0.014946    -0.190357  14.007500  15.205672  12.809328  \n",
       "2  37.837838 -0.660033    -0.475772  77.996000  80.625720  75.366280  \n",
       "3  33.187954 -1.625554    -1.408610  64.068855  69.005875  59.131835  \n",
       "4  48.039216  0.293560     0.329805  37.261000  39.283129  35.238871  "
      ]
     },
     "execution_count": 31,
     "metadata": {},
     "output_type": "execute_result"
    }
   ],
   "source": [
    "df.head()"
   ]
  },
  {
   "cell_type": "code",
   "execution_count": null,
   "metadata": {},
   "outputs": [],
   "source": []
  }
 ],
 "metadata": {
  "kernelspec": {
   "display_name": "base",
   "language": "python",
   "name": "python3"
  },
  "language_info": {
   "codemirror_mode": {
    "name": "ipython",
    "version": 3
   },
   "file_extension": ".py",
   "mimetype": "text/x-python",
   "name": "python",
   "nbconvert_exporter": "python",
   "pygments_lexer": "ipython3",
   "version": "3.12.4"
  }
 },
 "nbformat": 4,
 "nbformat_minor": 2
}
